{
 "cells": [
  {
   "cell_type": "markdown",
   "metadata": {},
   "source": [
    "## Using a Quantum Computer to Train XOR\n",
    "\n",
    "First we import the dwave library"
   ]
  },
  {
   "cell_type": "code",
   "execution_count": 4,
   "metadata": {},
   "outputs": [],
   "source": [
    "import dwavebinarycsp\n",
    "import dwavebinarycsp.factories.constraint.gates as gates\n",
    "import operator"
   ]
  },
  {
   "cell_type": "markdown",
   "metadata": {},
   "source": [
    "### Let's take a look at what we have"
   ]
  },
  {
   "cell_type": "code",
   "execution_count": 21,
   "metadata": {},
   "outputs": [
    {
     "name": "stdout",
     "output_type": "stream",
     "text": [
      "Solver: DW_2000Q_3\r\n",
      "  Parameters:\r\n",
      "    anneal_offsets: A list of anneal offsets for each working qubit (NaN if u...\r\n",
      "    anneal_schedule: A piecewise linear annealing schedule specified by a list...\r\n",
      "    annealing_time: A positive integer that sets the duration (in microsecond...\r\n",
      "    answer_mode: ?\r\n",
      "    auto_scale: ?\r\n",
      "    beta: Boltzmann distribution parameter. Only used when postproc...\r\n",
      "    chains: Defines which qubits represent the same logical variable ...\r\n",
      "    flux_biases: A list of flux biases for each working qubit.\r\n",
      "    flux_drift_compensation: A boolean for whether to activate the flux drift compensa...\r\n",
      "    initial_state: The initial states to use for the reverse anneal feature.\r\n",
      "    max_answers: ?\r\n",
      "    num_reads: ?\r\n",
      "    num_spin_reversal_transforms: ?\r\n",
      "    postprocess: either 'sampling' or 'optimization'\r\n",
      "    programming_thermalization: An integer that gives the time (in microseconds) to wait ...\r\n",
      "    readout_thermalization: An integer that gives the time (in microseconds) to wait ...\r\n",
      "    reduce_intersample_correlation: A boolean for whether to add pauses between samples.\r\n",
      "    reinitialize_state: Whether to reapply the initial_state for every read.\r\n",
      "  Properties:\r\n",
      "    anneal_offset_ranges: [[-0.21442228377304282, 0.03367099924873558], [0.0, 0.0],...\r\n",
      "    anneal_offset_step: 0.004634060789104103\r\n",
      "    anneal_offset_step_phi0: 0.0002885524799966458\r\n",
      "    annealing_time_range: [1, 2000]\r\n",
      "    chip_id: DW_2000Q_3\r\n",
      "    couplers: [[0, 4], [2, 4], [3, 4], [0, 5], [2, 5], [3, 5], [0, 6], ...\r\n",
      "    default_annealing_time: 20\r\n",
      "    default_programming_thermalization: 1000\r\n",
      "    default_readout_thermalization: 0\r\n",
      "    extended_j_range: [-2.0, 1.0]\r\n",
      "    h_range: [-2.0, 2.0]\r\n",
      "    j_range: [-1.0, 1.0]\r\n",
      "    max_anneal_schedule_points: 4\r\n",
      "    num_qubits: 2048\r\n",
      "    num_reads_range: [1, 10000]\r\n",
      "    per_qubit_coupling_range: [-9.0, 6.0]\r\n",
      "    problem_run_duration_range: [0, 1000000]\r\n",
      "    programming_thermalization_range: [0, 10000]\r\n",
      "    qubits: [0, 2, 3, 4, 5, 6, 7, 8, 10, 11, 12, 13, 14, 15, 16, 17, ...\r\n",
      "    readout_thermalization_range: [0, 10000]\r\n",
      "    supported_problem_types: ['ising', 'qubo']\r\n",
      "    vfyc: False\r\n",
      "\r\n"
     ]
    }
   ],
   "source": [
    "!dwave solvers"
   ]
  },
  {
   "cell_type": "markdown",
   "metadata": {},
   "source": [
    "The solver we are using is DWave's 2000 Qubit Quantum Annealer.\n",
    "\n",
    "Let's run a sample problem on their quantum computer to check if it is up and to see their response times.\n",
    "\n",
    "But before that, let's first ping their Quantum Computer and see what we get"
   ]
  },
  {
   "cell_type": "code",
   "execution_count": 22,
   "metadata": {},
   "outputs": [
    {
     "name": "stdout",
     "output_type": "stream",
     "text": [
      "Using endpoint: https://cloud.dwavesys.com/sapi\n",
      "Using solver: DW_2000Q_3\n",
      "Submitted problem ID: 5b035fe5-a35c-4792-a4ff-b1a74b342e71\n",
      "\n",
      "Wall clock time:\n",
      " * Solver definition fetch: 5313.781 ms\n",
      " * Problem submit and results fetch: 3958.114 ms\n",
      " * Total: 9271.895 ms\n",
      "\n",
      "QPU timing:\n",
      " * total_real_time = 9346 us\n",
      " * qpu_access_overhead_time = 1044 us\n",
      " * anneal_time_per_run = 20 us\n",
      " * post_processing_overhead_time = 239 us\n",
      " * qpu_sampling_time = 164 us\n",
      " * readout_time_per_run = 123 us\n",
      " * qpu_delay_time_per_sample = 21 us\n",
      " * qpu_anneal_time_per_sample = 20 us\n",
      " * total_post_processing_time = 239 us\n",
      " * qpu_programming_time = 9182 us\n",
      " * run_time_chip = 164 us\n",
      " * qpu_access_time = 9346 us\n",
      " * qpu_readout_time_per_sample = 123 us\n",
      "Using endpoint: https://cloud.dwavesys.com/sapi\n",
      "Using solver: DW_2000Q_3\n",
      "Using qubit biases: {0: -1.9623957726258783, 2: -0.3636483789484126, 3: 0.4914949866740108, 4: -1...\n",
      "Using qubit couplings: {(1634, 1638): 0.4283406131909504, (587, 590): 0.7831580874393123, (642, 6...\n",
      "Number of samples: 1\n",
      "Samples: [[1, 0, 1, -1, 1, -1, -1, 1, 1, 0, 1, -1, 1, -1, 1, -1, 1, -1, 1, -1, 1, -1, -1, 1, -1, ...\n",
      "Occurrences: [1]\n",
      "Energies: [-2858.8655565412078]\n"
     ]
    }
   ],
   "source": [
    "!dwave ping\n",
    "!dwave sample --random-problem"
   ]
  },
  {
   "cell_type": "markdown",
   "metadata": {},
   "source": [
    "Here we can again see that we are using their 2000 QuBit Quantum Computer.\n",
    "Furthermore, we see that it takes only **9 milliseconds** to send a request and get the result back.\n",
    "\n",
    "That is **SUPER FAST**!!!"
   ]
  },
  {
   "cell_type": "markdown",
   "metadata": {},
   "source": [
    "### Implementing a XOR gate using AND and NOT gates"
   ]
  },
  {
   "cell_type": "code",
   "execution_count": 5,
   "metadata": {},
   "outputs": [],
   "source": [
    "def xor(a, b, c):\n",
    "    not1= not a\n",
    "    not2= not b\n",
    "    and1= b and not1\n",
    "    and2= not2 and a\n",
    "    or1= and1 or and2\n",
    "    return (c==or1)"
   ]
  },
  {
   "cell_type": "markdown",
   "metadata": {},
   "source": [
    "Adding the constraints under which the quantum annealing process will happen.\n",
    "\n",
    "Here, 'a' and 'b' are our input variables and 'c' is our output variable"
   ]
  },
  {
   "cell_type": "code",
   "execution_count": 6,
   "metadata": {},
   "outputs": [],
   "source": [
    "csp = dwavebinarycsp.ConstraintSatisfactionProblem(dwavebinarycsp.BINARY)\n",
    "csp.add_constraint(xor, ['a', 'b', 'c'])\n",
    "\n",
    "bqm = dwavebinarycsp.stitch(csp)"
   ]
  },
  {
   "cell_type": "markdown",
   "metadata": {},
   "source": [
    "We will run the same problem for 1000 iterations to make sure that we get a large sample to choose the correct answers from"
   ]
  },
  {
   "cell_type": "code",
   "execution_count": 7,
   "metadata": {},
   "outputs": [
    {
     "name": "stdout",
     "output_type": "stream",
     "text": [
      "Total Time Taken to get result: 2.73 sec\n",
      "\n",
      "No. of Low Energy state answers: 998\n",
      "No. of High Energy State Answers: 2\n"
     ]
    }
   ],
   "source": [
    "from dwave.system.samplers import DWaveSampler\n",
    "from dwave.system.composites import EmbeddingComposite\n",
    "\n",
    "# Set up a D-Wave system as the sampler\n",
    "sampler = EmbeddingComposite(DWaveSampler())\n",
    "import time\n",
    "start_time=time.time()\n",
    "#Running the process for 1000 Iterations\n",
    "response = sampler.sample(bqm, num_reads=1000)\n",
    "request_time=time.time()-start_time\n",
    "print(f\"Total Time Taken to get result: {round(request_time, 2)} sec\")\n",
    "\n",
    "valid, invalid, data = 0, 0, []\n",
    "for datum in response.data(['sample', 'energy', 'num_occurrences']):\n",
    "    if (csp.check(datum.sample)):\n",
    "        valid = valid+datum.num_occurrences\n",
    "        for i in range(datum.num_occurrences):\n",
    "            data.append((datum.sample, datum.energy, '1'))\n",
    "    else:\n",
    "        invalid = invalid+datum.num_occurrences\n",
    "        for i in range(datum.num_occurrences):\n",
    "            data.append((datum.sample, datum.energy, '0'))\n",
    "print(f\"\\nNo. of Low Energy state answers: {valid}\")\n",
    "print(f\"No. of High Energy State Answers: {invalid}\")"
   ]
  },
  {
   "cell_type": "markdown",
   "metadata": {},
   "source": [
    "### Let's look at some of the answers and their Energy States"
   ]
  },
  {
   "cell_type": "code",
   "execution_count": 12,
   "metadata": {},
   "outputs": [
    {
     "name": "stdout",
     "output_type": "stream",
     "text": [
      "a, b, c = (1, 1, 0) \n",
      "Energy = 0.0 \n",
      "______\n",
      "a, b, c = (1, 0, 1) \n",
      "Energy = 0.0 \n",
      "______\n",
      "a, b, c = (0, 1, 1) \n",
      "Energy = 0.0 \n",
      "______\n",
      "a, b, c = (0, 0, 0) \n",
      "Energy = 0.0 \n",
      "______\n",
      "a, b, c = (1, 1, 1) \n",
      "Energy = 2.0 \n",
      "______\n",
      "\n",
      "Total Time Required by Quantum Computer: 1.039032 seconds\n",
      "Average Time Required in Quantum Computer per Iteration: 20.0 microseconds!\n"
     ]
    }
   ],
   "source": [
    "results_dict={}\n",
    "total_time=0\n",
    "qpu_time=0\n",
    "\n",
    "for sample, energy in response.data(['sample', 'energy']):\n",
    "    \n",
    "    a_value=sample['a']\n",
    "    b_value=sample['b']\n",
    "    c_value=sample['c']\n",
    "    \n",
    "    if (a_value, b_value, c_value) not in results_dict:\n",
    "        results_dict[(a_value, b_value, c_value)] = energy\n",
    "    \n",
    "    total_time=total_time+response.info['timing']['total_real_time']\n",
    "    qpu_time=qpu_time+response.info['timing']['qpu_anneal_time_per_sample']\n",
    "\n",
    "for result in results_dict:\n",
    "    print(f\"a, b, c = {result} \\nEnergy = {results_dict[result]} \\n______\")\n",
    "\n",
    "print(f\"\\nTotal Time Required by Quantum Computer: {total_time/1000000} seconds\")\n",
    "print(f\"Average Time Required in Quantum Computer per Iteration: {qpu_time/6} microseconds!\")"
   ]
  },
  {
   "cell_type": "markdown",
   "metadata": {},
   "source": [
    "### To Recap\n",
    "\n",
    "We ran the XOR gate training for 1000 Iterations on a Quantum Computer to get the best results\n",
    "The total time taken to send a request and get the result back was 2.73 seconds.\n",
    "\n",
    "If we strip away the time that was taken to send and receive a request, then the total time spent in the quantum computer was 1.04 seconds\n",
    "\n",
    "And out of that, on average, each iteration took just 20 microseconds to run! That means all the 1000 iterations was completed in 20 milliseconds and each iteration took 20 microseconds\n",
    "\n",
    "The rest of the time was taken by DWave to process the request, place the request in the quantum computer, read the output and preprocess it. These took apporximately:\n",
    "\n",
    "qpu_access_overhead_time: 2103,\n",
    "post_processing_overhead_time: 4137,\n",
    "qpu_sampling_time: 164000,\n",
    "readout_time_per_run: 123,\n",
    "qpu_delay_time_per_sample: 21,\n",
    "qpu_anneal_time_per_sample: 20,\n",
    "total_post_processing_time: 4137,\n",
    "qpu_programming_time: 9172,\n",
    "run_time_chip: 164000,\n",
    "qpu_access_time: 173172,\n",
    "qpu_readout_time_per_sample: 123"
   ]
  },
  {
   "cell_type": "code",
   "execution_count": null,
   "metadata": {},
   "outputs": [],
   "source": []
  }
 ],
 "metadata": {
  "kernelspec": {
   "display_name": "Python 3",
   "language": "python",
   "name": "python3"
  },
  "language_info": {
   "codemirror_mode": {
    "name": "ipython",
    "version": 3
   },
   "file_extension": ".py",
   "mimetype": "text/x-python",
   "name": "python",
   "nbconvert_exporter": "python",
   "pygments_lexer": "ipython3",
   "version": "3.6.5"
  }
 },
 "nbformat": 4,
 "nbformat_minor": 2
}
